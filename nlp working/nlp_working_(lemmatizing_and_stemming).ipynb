{
  "cells": [
    {
      "cell_type": "code",
      "execution_count": null,
      "metadata": {
        "colab": {
          "base_uri": "https://localhost:8080/"
        },
        "id": "ndIMyqd9PNsd",
        "outputId": "115dfcc1-e377-41eb-a28b-aa09fd0b7590"
      },
      "outputs": [
        {
          "metadata": {
            "tags": null
          },
          "name": "stdout",
          "output_type": "stream",
          "text": [
            "Requirement already satisfied: nltk in /usr/local/lib/python3.12/dist-packages (3.9.1)\n",
            "Requirement already satisfied: click in /usr/local/lib/python3.12/dist-packages (from nltk) (8.3.0)\n",
            "Requirement already satisfied: joblib in /usr/local/lib/python3.12/dist-packages (from nltk) (1.5.2)\n",
            "Requirement already satisfied: regex>=2021.8.3 in /usr/local/lib/python3.12/dist-packages (from nltk) (2024.11.6)\n",
            "Requirement already satisfied: tqdm in /usr/local/lib/python3.12/dist-packages (from nltk) (4.67.1)\n"
          ]
        }
      ],
      "source": [
        "pip install nltk\n"
      ]
    },
    {
      "cell_type": "code",
      "execution_count": null,
      "metadata": {
        "id": "MBilT-Jo6B48"
      },
      "outputs": [],
      "source": [
        "paragraph = \"\"\"\n",
        "Elon Reeve Musk (/ˈiːlɒn/ EE-lon; born June 28, 1971) is an international businessman and entrepreneur known for his leadership of Tesla, SpaceX, X (formerly Twitter), and the Department of Government Efficiency (DOGE). Musk has been the wealthiest person in the world since 2021; as of May 2025, Forbes estimates his net worth to be US$424.7 billion.\n",
        "Born to a wealthy family in Pretoria, South Africa, Musk emigrated in 1989 to Canada; he had obtained Canadian citizenship at birth through his Canadian-born mother. He received bachelor's degrees in 1997 from the University of Pennsylvania in Philadelphia, United States, before moving to California to pursue business ventures. In 1995, Musk co-founded the software company Zip2. Following its sale in 1999, he co-founded X.com, an online payment company that later merged to form PayPal, which was acquired by eBay in 2002. That year, Musk also became an American citizen.\n",
        "\"\"\""
      ]
    },
    {
      "cell_type": "code",
      "execution_count": null,
      "metadata": {
        "id": "sWlTaFwS6lPU"
      },
      "outputs": [],
      "source": [
        "import nltk\n",
        "from nltk.stem import PorterStemmer\n",
        "from nltk.corpus import stopwords"
      ]
    },
    {
      "cell_type": "code",
      "execution_count": null,
      "metadata": {
        "colab": {
          "base_uri": "https://localhost:8080/"
        },
        "id": "KeztyM3X66D9",
        "outputId": "b2ca8e27-c42e-4292-af2d-9807592d2f10"
      },
      "outputs": [
        {
          "output_type": "stream",
          "name": "stderr",
          "text": [
            "[nltk_data] Downloading package punkt to /root/nltk_data...\n",
            "[nltk_data]   Unzipping tokenizers/punkt.zip.\n",
            "[nltk_data] Downloading package punkt_tab to /root/nltk_data...\n",
            "[nltk_data]   Unzipping tokenizers/punkt_tab.zip.\n"
          ]
        },
        {
          "output_type": "execute_result",
          "data": {
            "text/plain": [
              "True"
            ]
          },
          "metadata": {},
          "execution_count": 6
        }
      ],
      "source": [
        "nltk.download('punkt')\n",
        "nltk.download('punkt_tab')"
      ]
    },
    {
      "cell_type": "code",
      "execution_count": null,
      "metadata": {
        "id": "6YmUaP9O7kAP"
      },
      "outputs": [],
      "source": [
        "sentence = nltk.sent_tokenize(paragraph)"
      ]
    },
    {
      "cell_type": "code",
      "execution_count": null,
      "metadata": {
        "colab": {
          "base_uri": "https://localhost:8080/"
        },
        "id": "vm6Y0Xgv8KXd",
        "outputId": "f61925b3-1e76-44f1-cbb1-ecb56a5c702f"
      },
      "outputs": [
        {
          "output_type": "execute_result",
          "data": {
            "text/plain": [
              "list"
            ]
          },
          "metadata": {},
          "execution_count": 8
        }
      ],
      "source": [
        "type(sentence)"
      ]
    },
    {
      "cell_type": "code",
      "execution_count": null,
      "metadata": {
        "colab": {
          "base_uri": "https://localhost:8080/"
        },
        "id": "5J4Ug5868TR5",
        "outputId": "4468b0be-5fc8-401b-ce3d-5ad6da3c2c7d"
      },
      "outputs": [
        {
          "output_type": "stream",
          "name": "stdout",
          "text": [
            "['\\nElon Reeve Musk (/ˈiːlɒn/ EE-lon; born June 28, 1971) is an international businessman and entrepreneur known for his leadership of Tesla, SpaceX, X (formerly Twitter), and the Department of Government Efficiency (DOGE).', 'Musk has been the wealthiest person in the world since 2021; as of May 2025, Forbes estimates his net worth to be US$424.7 billion.', 'Born to a wealthy family in Pretoria, South Africa, Musk emigrated in 1989 to Canada; he had obtained Canadian citizenship at birth through his Canadian-born mother.', \"He received bachelor's degrees in 1997 from the University of Pennsylvania in Philadelphia, United States, before moving to California to pursue business ventures.\", 'In 1995, Musk co-founded the software company Zip2.', 'Following its sale in 1999, he co-founded X.com, an online payment company that later merged to form PayPal, which was acquired by eBay in 2002.', 'That year, Musk also became an American citizen.']\n"
          ]
        }
      ],
      "source": [
        "print(sentence)"
      ]
    },
    {
      "cell_type": "code",
      "execution_count": null,
      "metadata": {
        "colab": {
          "base_uri": "https://localhost:8080/",
          "height": 36
        },
        "id": "4-CrcxONmv4P",
        "outputId": "13e9864a-de6f-42b6-ebac-3e13dbab346b"
      },
      "outputs": [
        {
          "output_type": "execute_result",
          "data": {
            "text/plain": [
              "'acquir'"
            ],
            "application/vnd.google.colaboratory.intrinsic+json": {
              "type": "string"
            }
          },
          "metadata": {},
          "execution_count": 10
        }
      ],
      "source": [
        "stemmer = PorterStemmer()\n",
        "stemmer.stem('acquiring')"
      ]
    },
    {
      "cell_type": "code",
      "execution_count": null,
      "metadata": {
        "colab": {
          "base_uri": "https://localhost:8080/"
        },
        "id": "5kbpetGK0pIn",
        "outputId": "9ebfb89a-e748-41b8-8bef-e54a7c70cad5"
      },
      "outputs": [
        {
          "output_type": "stream",
          "name": "stderr",
          "text": [
            "[nltk_data] Downloading package wordnet to /root/nltk_data...\n"
          ]
        },
        {
          "output_type": "execute_result",
          "data": {
            "text/plain": [
              "True"
            ]
          },
          "metadata": {},
          "execution_count": 11
        }
      ],
      "source": [
        "nltk.download('wordnet')"
      ]
    },
    {
      "cell_type": "code",
      "execution_count": null,
      "metadata": {
        "colab": {
          "base_uri": "https://localhost:8080/",
          "height": 36
        },
        "id": "JsgnftyN06K3",
        "outputId": "162810e5-a26a-4ea8-f7e2-65742214cd24"
      },
      "outputs": [
        {
          "output_type": "execute_result",
          "data": {
            "text/plain": [
              "'go'"
            ],
            "application/vnd.google.colaboratory.intrinsic+json": {
              "type": "string"
            }
          },
          "metadata": {},
          "execution_count": 12
        }
      ],
      "source": [
        "from nltk.stem import WordNetLemmatizer\n",
        "lemmatizer = WordNetLemmatizer()\n",
        "lemmatizer.lemmatize('goes')"
      ]
    },
    {
      "cell_type": "code",
      "execution_count": null,
      "metadata": {
        "colab": {
          "base_uri": "https://localhost:8080/"
        },
        "id": "ZDzyRW_pRBgr",
        "outputId": "139832e8-b1b9-4989-f88e-c3e134666f2f"
      },
      "outputs": [
        {
          "output_type": "execute_result",
          "data": {
            "text/plain": [
              "[' elon reeve musk    i l n  ee lon  born june           is an international businessman and entrepreneur known for his leadership of tesla  spacex  x  formerly twitter   and the department of government efficiency  doge  ',\n",
              " 'musk has been the wealthiest person in the world since       as of may       forbes estimates his net worth to be us       billion ',\n",
              " 'born to a wealthy family in pretoria  south africa  musk emigrated in      to canada  he had obtained canadian citizenship at birth through his canadian born mother ',\n",
              " 'he received bachelor s degrees in      from the university of pennsylvania in philadelphia  united states  before moving to california to pursue business ventures ',\n",
              " 'in       musk co founded the software company zip  ',\n",
              " 'following its sale in       he co founded x com  an online payment company that later merged to form paypal  which was acquired by ebay in      ',\n",
              " 'that year  musk also became an american citizen ']"
            ]
          },
          "metadata": {},
          "execution_count": 13
        }
      ],
      "source": [
        "import re\n",
        "corpus = []\n",
        "for i in range(len(sentence)):\n",
        "  text = re.sub('[^a-zA-Z]', ' ', sentence[i])\n",
        "  text = text.lower()\n",
        "  corpus.append(text)\n",
        "corpus"
      ]
    },
    {
      "cell_type": "code",
      "execution_count": null,
      "metadata": {
        "colab": {
          "base_uri": "https://localhost:8080/"
        },
        "id": "JD9JuDPkU1o5",
        "outputId": "22b1556a-d143-4fd3-d478-ce3073035039"
      },
      "outputs": [
        {
          "output_type": "stream",
          "name": "stderr",
          "text": [
            "[nltk_data] Downloading package stopwords to /root/nltk_data...\n",
            "[nltk_data]   Unzipping corpora/stopwords.zip.\n"
          ]
        },
        {
          "output_type": "execute_result",
          "data": {
            "text/plain": [
              "True"
            ]
          },
          "metadata": {},
          "execution_count": 14
        }
      ],
      "source": [
        "nltk.download('stopwords')"
      ]
    },
    {
      "cell_type": "code",
      "execution_count": null,
      "metadata": {
        "colab": {
          "base_uri": "https://localhost:8080/"
        },
        "collapsed": true,
        "id": "8Ccn0SBaU5o6",
        "outputId": "a4f1713f-f1fc-48db-ec3c-243f477cffa6"
      },
      "outputs": [
        {
          "output_type": "stream",
          "name": "stdout",
          "text": [
            "elon\n",
            "reev\n",
            "musk\n",
            "l\n",
            "n\n",
            "ee\n",
            "lon\n",
            "born\n",
            "june\n",
            "intern\n",
            "businessman\n",
            "entrepreneur\n",
            "known\n",
            "leadership\n",
            "tesla\n",
            "spacex\n",
            "x\n",
            "formerli\n",
            "twitter\n",
            "depart\n",
            "govern\n",
            "effici\n",
            "doge\n",
            "musk\n",
            "wealthiest\n",
            "person\n",
            "world\n",
            "sinc\n",
            "may\n",
            "forb\n",
            "estim\n",
            "net\n",
            "worth\n",
            "us\n",
            "billion\n",
            "born\n",
            "wealthi\n",
            "famili\n",
            "pretoria\n",
            "south\n",
            "africa\n",
            "musk\n",
            "emigr\n",
            "canada\n",
            "obtain\n",
            "canadian\n",
            "citizenship\n",
            "birth\n",
            "canadian\n",
            "born\n",
            "mother\n",
            "receiv\n",
            "bachelor\n",
            "degre\n",
            "univers\n",
            "pennsylvania\n",
            "philadelphia\n",
            "unit\n",
            "state\n",
            "move\n",
            "california\n",
            "pursu\n",
            "busi\n",
            "ventur\n",
            "musk\n",
            "co\n",
            "found\n",
            "softwar\n",
            "compani\n",
            "zip\n",
            "follow\n",
            "sale\n",
            "co\n",
            "found\n",
            "x\n",
            "com\n",
            "onlin\n",
            "payment\n",
            "compani\n",
            "later\n",
            "merg\n",
            "form\n",
            "paypal\n",
            "acquir\n",
            "ebay\n",
            "year\n",
            "musk\n",
            "also\n",
            "becam\n",
            "american\n",
            "citizen\n"
          ]
        }
      ],
      "source": [
        "for i in corpus:\n",
        "  words = nltk.word_tokenize(i)\n",
        "  for word in words:\n",
        "    if word not in set(stopwords.words('english')):\n",
        "      print(stemmer.stem(word))"
      ]
    },
    {
      "cell_type": "code",
      "execution_count": null,
      "metadata": {
        "colab": {
          "base_uri": "https://localhost:8080/"
        },
        "collapsed": true,
        "id": "RDE3uDApVY-Y",
        "outputId": "af4b9c66-c6c7-40de-f560-b48baf4aa0e7"
      },
      "outputs": [
        {
          "output_type": "execute_result",
          "data": {
            "text/plain": [
              "{'elon': 33,\n",
              " 'reeve': 76,\n",
              " 'musk': 63,\n",
              " 'ee': 31,\n",
              " 'lon': 58,\n",
              " 'born': 15,\n",
              " 'june': 54,\n",
              " 'is': 52,\n",
              " 'an': 4,\n",
              " 'international': 51,\n",
              " 'businessman': 17,\n",
              " 'and': 5,\n",
              " 'entrepreneur': 35,\n",
              " 'known': 55,\n",
              " 'for': 39,\n",
              " 'his': 49,\n",
              " 'leadership': 57,\n",
              " 'of': 66,\n",
              " 'tesla': 83,\n",
              " 'spacex': 81,\n",
              " 'formerly': 42,\n",
              " 'twitter': 88,\n",
              " 'the': 85,\n",
              " 'department': 28,\n",
              " 'government': 45,\n",
              " 'efficiency': 32,\n",
              " 'doge': 29,\n",
              " 'has': 47,\n",
              " 'been': 11,\n",
              " 'wealthiest': 94,\n",
              " 'person': 71,\n",
              " 'in': 50,\n",
              " 'world': 97,\n",
              " 'since': 78,\n",
              " 'as': 6,\n",
              " 'may': 59,\n",
              " 'forbes': 40,\n",
              " 'estimates': 36,\n",
              " 'net': 64,\n",
              " 'worth': 98,\n",
              " 'to': 87,\n",
              " 'be': 9,\n",
              " 'us': 91,\n",
              " 'billion': 13,\n",
              " 'wealthy': 95,\n",
              " 'family': 37,\n",
              " 'pretoria': 73,\n",
              " 'south': 80,\n",
              " 'africa': 1,\n",
              " 'emigrated': 34,\n",
              " 'canada': 20,\n",
              " 'he': 48,\n",
              " 'had': 46,\n",
              " 'obtained': 65,\n",
              " 'canadian': 21,\n",
              " 'citizenship': 23,\n",
              " 'at': 7,\n",
              " 'birth': 14,\n",
              " 'through': 86,\n",
              " 'mother': 61,\n",
              " 'received': 75,\n",
              " 'bachelor': 8,\n",
              " 'degrees': 27,\n",
              " 'from': 44,\n",
              " 'university': 90,\n",
              " 'pennsylvania': 70,\n",
              " 'philadelphia': 72,\n",
              " 'united': 89,\n",
              " 'states': 82,\n",
              " 'before': 12,\n",
              " 'moving': 62,\n",
              " 'california': 19,\n",
              " 'pursue': 74,\n",
              " 'business': 16,\n",
              " 'ventures': 92,\n",
              " 'co': 24,\n",
              " 'founded': 43,\n",
              " 'software': 79,\n",
              " 'company': 26,\n",
              " 'zip': 100,\n",
              " 'following': 38,\n",
              " 'its': 53,\n",
              " 'sale': 77,\n",
              " 'com': 25,\n",
              " 'online': 67,\n",
              " 'payment': 68,\n",
              " 'that': 84,\n",
              " 'later': 56,\n",
              " 'merged': 60,\n",
              " 'form': 41,\n",
              " 'paypal': 69,\n",
              " 'which': 96,\n",
              " 'was': 93,\n",
              " 'acquired': 0,\n",
              " 'by': 18,\n",
              " 'ebay': 30,\n",
              " 'year': 99,\n",
              " 'also': 2,\n",
              " 'became': 10,\n",
              " 'american': 3,\n",
              " 'citizen': 22}"
            ]
          },
          "metadata": {},
          "execution_count": 16
        }
      ],
      "source": [
        "from sklearn.feature_extraction.text import CountVectorizer\n",
        "cv = CountVectorizer()\n",
        "x = cv.fit_transform(corpus)\n",
        "cv.vocabulary_"
      ]
    },
    {
      "cell_type": "markdown",
      "metadata": {
        "id": "MVl2zv34cVmK"
      },
      "source": [
        "TF and IDF"
      ]
    },
    {
      "cell_type": "code",
      "execution_count": null,
      "metadata": {
        "colab": {
          "base_uri": "https://localhost:8080/"
        },
        "id": "yYCI_0UKcXaI",
        "outputId": "0da20aac-14d4-423d-f2b4-007722f7a866"
      },
      "outputs": [
        {
          "output_type": "stream",
          "name": "stdout",
          "text": [
            "{'love': 5, 'machine': 6, 'learning': 4, 'is': 2, 'fun': 1, 'enjoy': 0, 'new': 8, 'things': 12, 'natural': 7, 'language': 3, 'processing': 11, 'part': 10, 'of': 9}\n"
          ]
        }
      ],
      "source": [
        "\"Term Frequency - Inverse Document Frequency\"\n",
        "from sklearn.feature_extraction.text import TfidfVectorizer\n",
        "corpus = [\n",
        "    \"I love machine learning\",\n",
        "    \"Machine learning is fun\",\n",
        "    \"I enjoy learning new things\",\n",
        "    \"Natural language processing is a part of machine learning.\"\n",
        "]\n",
        "\n",
        "v = TfidfVectorizer()\n",
        "result = v.fit_transform(corpus)\n",
        "print(v.vocabulary_)"
      ]
    },
    {
      "cell_type": "code",
      "source": [
        "print(result)"
      ],
      "metadata": {
        "id": "N0FuFjNK2Opp",
        "outputId": "e0191496-4e4d-4725-a432-9dd314b7ecad",
        "colab": {
          "base_uri": "https://localhost:8080/"
        }
      },
      "execution_count": null,
      "outputs": [
        {
          "output_type": "stream",
          "name": "stdout",
          "text": [
            "<Compressed Sparse Row sparse matrix of dtype 'float64'\n",
            "\twith 19 stored elements and shape (4, 13)>\n",
            "  Coords\tValues\n",
            "  (0, 5)\t0.7715790094657221\n",
            "  (0, 6)\t0.4924888870251974\n",
            "  (0, 4)\t0.40264193560603856\n",
            "  (1, 6)\t0.42075315164463567\n",
            "  (1, 4)\t0.3439932714296342\n",
            "  (1, 2)\t0.5197138488789809\n",
            "  (1, 1)\t0.6591911178676787\n",
            "  (2, 4)\t0.2884767487500274\n",
            "  (2, 0)\t0.5528053199908667\n",
            "  (2, 8)\t0.5528053199908667\n",
            "  (2, 12)\t0.5528053199908667\n",
            "  (3, 6)\t0.2542729780776389\n",
            "  (3, 4)\t0.20788482088176372\n",
            "  (3, 2)\t0.31407771418017194\n",
            "  (3, 7)\t0.39836775555304266\n",
            "  (3, 3)\t0.39836775555304266\n",
            "  (3, 11)\t0.39836775555304266\n",
            "  (3, 10)\t0.39836775555304266\n",
            "  (3, 9)\t0.39836775555304266\n"
          ]
        }
      ]
    },
    {
      "cell_type": "code",
      "source": [
        "all_feature_names = v.get_feature_names_out()\n",
        "for word in all_feature_names:\n",
        "  indx = v.vocabulary_.get(word)\n",
        "  idf_score = v.idf_[indx]\n",
        "  print(f\"{word} {idf_score}\")"
      ],
      "metadata": {
        "colab": {
          "base_uri": "https://localhost:8080/"
        },
        "id": "0l5MnlFhp7xD",
        "outputId": "3875b197-d08f-46d7-d64a-12337ebba458"
      },
      "execution_count": null,
      "outputs": [
        {
          "output_type": "stream",
          "name": "stdout",
          "text": [
            "enjoy 1.916290731874155\n",
            "fun 1.916290731874155\n",
            "is 1.5108256237659907\n",
            "language 1.916290731874155\n",
            "learning 1.0\n",
            "love 1.916290731874155\n",
            "machine 1.2231435513142097\n",
            "natural 1.916290731874155\n",
            "new 1.916290731874155\n",
            "of 1.916290731874155\n",
            "part 1.916290731874155\n",
            "processing 1.916290731874155\n",
            "things 1.916290731874155\n"
          ]
        }
      ]
    },
    {
      "cell_type": "code",
      "source": [],
      "metadata": {
        "id": "YwRCJhXbM9u_"
      },
      "execution_count": null,
      "outputs": []
    }
  ],
  "metadata": {
    "colab": {
      "provenance": []
    },
    "kernelspec": {
      "display_name": "Python 3",
      "name": "python3"
    },
    "language_info": {
      "name": "python"
    }
  },
  "nbformat": 4,
  "nbformat_minor": 0
}